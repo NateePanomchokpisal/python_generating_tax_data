{
 "cells": [
  {
   "cell_type": "markdown",
   "id": "f5046423",
   "metadata": {},
   "source": [
    "### Columns ที่ต้องใช้\n",
    "\n",
    "1. VAT_DATE\n",
    "2. VAT_REF (เลขที่บิล VAT)\n",
    "3. VAT_DESC (กิจกรรมที่เกิดขึ้นคืออะไร)\n",
    "4. VAT_A_SV (ยอดก่อน VAT)\n",
    "5. VAT_A_VAT (ยอด VAT เฉพาะ 7%)\n",
    "6. ADDB_COMPANY (ชื่อลูกค้า)\n",
    "7. ADDB_TAX_ID (เลขที่ภาษี)\n",
    "8. ADDB_BRANCH (สาขา)"
   ]
  },
  {
   "cell_type": "markdown",
   "id": "2de4fdb8",
   "metadata": {},
   "source": [
    "### Selling tax"
   ]
  },
  {
   "cell_type": "code",
   "execution_count": 1,
   "id": "3ea0becd",
   "metadata": {},
   "outputs": [
    {
     "name": "stdout",
     "output_type": "stream",
     "text": [
      "<class 'pandas.core.frame.DataFrame'>\n",
      "RangeIndex: 1975 entries, 0 to 1974\n",
      "Data columns (total 8 columns):\n",
      " #   Column        Non-Null Count  Dtype \n",
      "---  ------        --------------  ----- \n",
      " 0   VAT_DATE      1975 non-null   object\n",
      " 1   VAT_REF       1975 non-null   object\n",
      " 2   VAT_DESC      1975 non-null   object\n",
      " 3   VAT_A_SV      1975 non-null   object\n",
      " 4   VAT_A_VAT     1975 non-null   object\n",
      " 5   ADDB_COMPANY  1975 non-null   object\n",
      " 6   ADDB_BRANCH   1949 non-null   object\n",
      " 7   ADDB_TAX_ID   1025 non-null   object\n",
      "dtypes: object(8)\n",
      "memory usage: 123.6+ KB\n"
     ]
    },
    {
     "name": "stderr",
     "output_type": "stream",
     "text": [
      "C:\\Users\\DELL\\AppData\\Local\\Temp/ipykernel_26456/653923978.py:16: FutureWarning: The default value of regex will change from True to False in a future version. In addition, single character regular expressions will *not* be treated as literal strings when regex=True.\n",
      "  df[col] = df[col].str.replace(k,v)\n"
     ]
    }
   ],
   "source": [
    "import pandas as pd\n",
    "\n",
    "# time period\n",
    "import datetime as dt\n",
    "from datetime import timedelta\n",
    "last_week = dt.datetime.today()-timedelta(days = 7)\n",
    "Month_Period = last_week.strftime(\"%b%Y\")\n",
    "\n",
    "df = pd.read_excel(f\"D:/ภาษีขาย/รายงานภาษีขาย เดือน {Month_Period}.xls\",dtype =\"object\",\n",
    "                   usecols =[\"VAT_DATE\",\"VAT_REF\",\"VAT_DESC\",\"VAT_A_SV\",\"VAT_A_VAT\",\"ADDB_COMPANY\",\"ADDB_TAX_ID\",\"ADDB_BRANCH\"])\n",
    "df.info()\n",
    "# replace dollar sign\n",
    "replacing_dict = {\"$\":\"\",\"(\":\"-\",\")\":\"\",\",\":\"\"}\n",
    "for col in [\"VAT_A_SV\",\"VAT_A_VAT\"]:\n",
    "    for k,v in replacing_dict.items():\n",
    "        df[col] = df[col].str.replace(k,v)\n",
    "        \n",
    "# replace company activities\n",
    "df[\"VAT_DESC\"] = df[\"VAT_REF\"].map(lambda x:\"รับคืน\" if \"RC\" in x else \"ขายให้\")\n",
    "\n",
    "# change Datatype\n",
    "# df[\"VAT_DATE\"] = pd.to_datetime(df[\"VAT_DATE\"],format = \"%d/%m/%Y\")\n",
    "for name in [\"VAT_A_SV\",\"VAT_A_VAT\"]:\n",
    "    df[name] = df[name].astype(\"float32\").round(2)\n",
    "\n",
    "# filter less of vat sales\n",
    "\n",
    "\n",
    "# re column names\n",
    "df.columns = [\"วันที่\",\"เลขที่บิล VAT\",\"กิจกรรม\",\"ยอดก่อน VAT\",\"ยอด VAT\",\"ขื่อลูกค้า\",\"สาขา\",\"เลขที่ภาษี\"]\n",
    "# export to excel\n",
    "df.to_excel(r\"D:/ภาษีขาย/รายงานภาษีขาย เดือน {monthyear} (ส่งพินิจนันท์).xlsx\".format(monthyear=Month_Period),\n",
    "                 sheet_name='VAT rev', index = False)"
   ]
  },
  {
   "cell_type": "markdown",
   "id": "16f4e765",
   "metadata": {},
   "source": [
    "### Purchasing Tax"
   ]
  },
  {
   "cell_type": "code",
   "execution_count": 2,
   "id": "b54e1e19",
   "metadata": {},
   "outputs": [
    {
     "name": "stdout",
     "output_type": "stream",
     "text": [
      "<class 'pandas.core.frame.DataFrame'>\n",
      "RangeIndex: 235 entries, 0 to 234\n",
      "Data columns (total 9 columns):\n",
      " #   Column        Non-Null Count  Dtype \n",
      "---  ------        --------------  ----- \n",
      " 0   VAT_DATE      235 non-null    object\n",
      " 1   VAT_REF       235 non-null    object\n",
      " 2   VAT_DESC      235 non-null    object\n",
      " 3   VAT_A_SV      235 non-null    object\n",
      " 4   VAT_A_VAT     235 non-null    object\n",
      " 5   ADDB_COMPANY  235 non-null    object\n",
      " 6   ADDB_TAX_ID   140 non-null    object\n",
      " 7   ADDB_BRANCH   225 non-null    object\n",
      " 8   DI_REF        235 non-null    object\n",
      "dtypes: object(9)\n",
      "memory usage: 16.6+ KB\n"
     ]
    },
    {
     "name": "stderr",
     "output_type": "stream",
     "text": [
      "C:\\Users\\DELL\\AppData\\Local\\Temp/ipykernel_26456/95593531.py:18: FutureWarning: The default value of regex will change from True to False in a future version. In addition, single character regular expressions will *not* be treated as literal strings when regex=True.\n",
      "  df[col] = df[col].str.replace(k,v)\n"
     ]
    }
   ],
   "source": [
    "import pandas as pd\n",
    "import numpy as np\n",
    "\n",
    "# time period\n",
    "import datetime as dt\n",
    "from datetime import timedelta\n",
    "last_week = dt.datetime.today()-timedelta(days = 30)\n",
    "Month_Period = last_week.strftime(\"%b%Y\")\n",
    "\n",
    "df = pd.read_excel(f\"D:/ภาษีขาย/รายงานภาษีซื้อ เดือน {Month_Period}.xls\",dtype =\"object\",\n",
    "                   usecols =[\"VAT_DATE\",\"VAT_REF\",\"VAT_DESC\",\"VAT_A_SV\",\"VAT_A_VAT\",\"ADDB_COMPANY\",\"ADDB_TAX_ID\",\"ADDB_BRANCH\",\"DI_REF\"])\n",
    "df = df[[\"VAT_DATE\",\"VAT_REF\",\"VAT_DESC\",\"VAT_A_SV\",\"VAT_A_VAT\",\"ADDB_COMPANY\",\"ADDB_TAX_ID\",\"ADDB_BRANCH\",\"DI_REF\"]]\n",
    "df.info()\n",
    "# replace dollar sign\n",
    "replacing_dict = {\"$\":\"\",\"(\":\"-\",\")\":\"\",\",\":\"\"}\n",
    "for col in [\"VAT_A_SV\",\"VAT_A_VAT\"]:\n",
    "    for k,v in replacing_dict.items():\n",
    "        df[col] = df[col].str.replace(k,v)\n",
    "        \n",
    "# replace company activities\n",
    "df[\"VAT_DESC1\"] = df[\"DI_REF\"].map(lambda x:\"ส่งคืน\" if \"DB\" in x else (\"ค่าใช้จ่ายย่อย\" if \"PV\" in x else \"สั่งซื้อ\"))\n",
    "\n",
    "# Adding sub-purchaing name\n",
    "df[\"ADDB_COMPANY\"] = np.where(df[\"VAT_DESC1\"]==\"ค่าใช้จ่ายย่อย\",df[\"VAT_DESC\"],df[\"ADDB_COMPANY\"])\n",
    "\n",
    "# change Datatype\n",
    "# df[\"VAT_DATE\"] = pd.to_datetime(df[\"VAT_DATE\"],format = \"%d/%m/%Y\")\n",
    "for name in [\"VAT_A_SV\",\"VAT_A_VAT\"]:\n",
    "    df[name] = df[name].astype(\"float32\").round(2)\n",
    "\n",
    "# exclude some columns because of useless\n",
    "df = df.drop(columns = [\"VAT_DESC\",\"DI_REF\"])\n",
    "# rename columns\n",
    "df.columns = [\"วันที่\",\"เลขที่บิล VAT\",\"ยอดก่อน VAT\",\"ยอด VAT\",\"ขื่อลูกค้า\",\"เลขที่ภาษี\",\"สาขา\",\"กิจกรรม\"]\n",
    "# export to excel\n",
    "df.to_excel(r\"D:/ภาษีขาย/รายงานภาษีซื้อ เดือน {monthyear} (ส่งพินิจนันท์).xlsx\".format(monthyear=Month_Period),\n",
    "                 sheet_name='VAT purchase', index = False)"
   ]
  },
  {
   "cell_type": "code",
   "execution_count": null,
   "id": "2b01c7cc",
   "metadata": {},
   "outputs": [],
   "source": []
  },
  {
   "cell_type": "raw",
   "id": "7a50345f",
   "metadata": {},
   "source": [
    "Checking the skipping numbers of invoice"
   ]
  },
  {
   "cell_type": "code",
   "execution_count": 34,
   "id": "166a0a32",
   "metadata": {},
   "outputs": [
    {
     "name": "stdout",
     "output_type": "stream",
     "text": [
      "The last of invoice คดV : 101\n",
      "Number which is disappearing in invoice คดV : []\n",
      "=============================\n",
      "The last of invoice งสV : 909\n",
      "Number which is disappearing in invoice งสV : []\n",
      "=============================\n",
      "The last of invoice งสVย : 941\n",
      "Number which is disappearing in invoice งสVย : [207]\n",
      "=============================\n",
      "The last of invoice RCV : 20\n",
      "Number which is disappearing in invoice RCV : []\n",
      "=============================\n",
      "The last of invoice คดVย : 4\n",
      "Number which is disappearing in invoice คดVย : []\n",
      "=============================\n",
      "The last of invoice งสN : 100\n",
      "Number which is disappearing in invoice งสN : []\n",
      "=============================\n"
     ]
    }
   ],
   "source": [
    "import re\n",
    "Month_Period = last_week.strftime(\"%b%Y\")\n",
    "df = pd.read_excel(r\"D:/ภาษีขาย/รายงานภาษีขาย เดือน {monthyear} (ส่งพินิจนันท์).xlsx\".format(monthyear=Month_Period))\n",
    "# df = pd.read_excel(\"D:/ภาษีขาย/รายงานภาษีขาย เดือน Apr2024 (ส่งพินิจนันท์).xlsx\")\n",
    "df.columns = [\"VAT_DATE\",\"VAT_REF\",\"VAT_DESC\",\"VAT_A_SV\",\"VAT_A_VAT\",\"ADDB_COMPANY\",\"ADDB_TAX_ID\",\"ADDB_BRANCH\"]\n",
    "this_year = str(int(Month_Period[-2:])+43)\n",
    "# Setting Invoice Type\n",
    "df[\"Inv_type\"] = pd.Series([df['VAT_REF'][i][:j] for i,j in enumerate(df[\"VAT_REF\"].str.find(this_year))])\n",
    "# getting the sequencing of Invoice of each type\n",
    "df[\"Seq_Inv\"] = df[\"VAT_REF\"].str[-4:].astype(\"int64\")\n",
    "# checking the disappearred of number \n",
    "for inv_type in df[\"Inv_type\"].unique():\n",
    "    set_of_check = set(df[df[\"Inv_type\"]==inv_type][\"Seq_Inv\"])\n",
    "    End,Start = df[df[\"Inv_type\"]==inv_type][\"Seq_Inv\"].max(),df[df[\"Inv_type\"]==inv_type][\"Seq_Inv\"].min()\n",
    "    print(f\"The last of invoice {inv_type} : \"+str(End))\n",
    "    print(f\"Number which is disappearing in invoice {inv_type} : \"+str(sorted(set(range(Start, End + 1)).difference(set_of_check))))\n",
    "    print(\"=============================\")"
   ]
  },
  {
   "cell_type": "code",
   "execution_count": 2,
   "id": "cfe881ad",
   "metadata": {},
   "outputs": [
    {
     "name": "stderr",
     "output_type": "stream",
     "text": [
      "C:\\Users\\DELL\\AppData\\Local\\Temp/ipykernel_29976/1186652995.py:16: FutureWarning: The default value of regex will change from True to False in a future version. In addition, single character regular expressions will *not* be treated as literal strings when regex=True.\n",
      "  df[col] = df[col].str.replace(k,v)\n"
     ]
    },
    {
     "name": "stdout",
     "output_type": "stream",
     "text": [
      "       VAT_DATE        VAT_REF VAT_DESC     VAT_A_SV   VAT_A_VAT ADDB_COMPANY  \\\n",
      "458  07/02/2024  งสVย6702/0204   ขายให้  7497.200195  524.799988      รายย่อย   \n",
      "\n",
      "    ADDB_BRANCH ADDB_TAX_ID  \n",
      "458           -         NaN  \n"
     ]
    }
   ],
   "source": [
    "# import pandas as pd\n",
    "\n",
    "# # time period\n",
    "# import datetime as dt\n",
    "# from datetime import timedelta\n",
    "# last_week = dt.datetime(2024,2,1)\n",
    "# Month_Period = last_week.strftime(\"%b%Y\")\n",
    "\n",
    "# df = pd.read_excel(f\"D:/ภาษีขาย/รายงานภาษีขาย เดือน {Month_Period}.xls\",dtype =\"object\",\n",
    "#                    usecols =[\"VAT_DATE\",\"VAT_REF\",\"VAT_DESC\",\"VAT_A_SV\",\"VAT_A_VAT\",\"ADDB_COMPANY\",\"ADDB_TAX_ID\",\"ADDB_BRANCH\"])\n",
    "\n",
    "# # replace dollar sign\n",
    "# replacing_dict = {\"$\":\"\",\"(\":\"-\",\")\":\"\",\",\":\"\"}\n",
    "# for col in [\"VAT_A_SV\",\"VAT_A_VAT\"]:\n",
    "#     for k,v in replacing_dict.items():\n",
    "#         df[col] = df[col].str.replace(k,v)\n",
    "        \n",
    "# # replace company activities\n",
    "# df[\"VAT_DESC\"] = df[\"VAT_REF\"].map(lambda x:\"รับคืน\" if \"RC\" in x else \"ขายให้\")\n",
    "\n",
    "# # change Datatype\n",
    "# # df[\"VAT_DATE\"] = pd.to_datetime(df[\"VAT_DATE\"],format = \"%d/%m/%Y\")\n",
    "# for name in [\"VAT_A_SV\",\"VAT_A_VAT\"]:\n",
    "#     df[name] = df[name].astype(\"float32\").round(2)\n",
    "\n",
    "# # print(df.head())\n",
    "\n",
    "# # reading send file\n",
    "# send_df = pd.read_excel(f\"D:/ภาษีขาย/รายงานภาษีขาย เดือน {Month_Period} (ส่งพินิจนันท์).xlsx\")\n",
    "# #selected number of invoice of send file\n",
    "# series_send_invoice_number = send_df[\"เลขที่บิล VAT\"]\n",
    "# #number of all invoice file\n",
    "# series_all_invoice_number = df[\"VAT_REF\"]\n",
    "\n",
    "# # findind the complement of the intersection between 2 pandas series\n",
    "# complement_invoice_number = series_all_invoice_number[~series_all_invoice_number.isin(series_send_invoice_number)]\n",
    "# # Maximize of the value\n",
    "# max_value = df[df[\"VAT_REF\"].isin(complement_invoice_number)][\"VAT_A_SV\"].max()\n",
    "# print(df[df[\"VAT_A_SV\"]==max_value])"
   ]
  },
  {
   "cell_type": "code",
   "execution_count": null,
   "id": "4e1ec531",
   "metadata": {},
   "outputs": [],
   "source": []
  },
  {
   "cell_type": "code",
   "execution_count": null,
   "id": "6a3cfda4",
   "metadata": {},
   "outputs": [],
   "source": []
  }
 ],
 "metadata": {
  "kernelspec": {
   "display_name": "Python 3 (ipykernel)",
   "language": "python",
   "name": "python3"
  },
  "language_info": {
   "codemirror_mode": {
    "name": "ipython",
    "version": 3
   },
   "file_extension": ".py",
   "mimetype": "text/x-python",
   "name": "python",
   "nbconvert_exporter": "python",
   "pygments_lexer": "ipython3",
   "version": "3.8.8"
  }
 },
 "nbformat": 4,
 "nbformat_minor": 5
}
