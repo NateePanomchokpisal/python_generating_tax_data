{
 "cells": [
  {
   "cell_type": "code",
   "execution_count": null,
   "id": "20ecb020",
   "metadata": {},
   "outputs": [],
   "source": [
    "import pandas as pd\n",
    "import numpy as np\n",
    "pd.set_option(\"display.max_columns\",50)\n",
    "\n",
    "# time period\n",
    "import datetime as dt\n",
    "from datetime import timedelta\n",
    "last_week = dt.datetime.today()-timedelta(days = 7)\n",
    "Month_Period = last_week.strftime(\"%b%Y\")\n",
    "\n",
    "df1 = pd.read_excel(f\"D:/ประวัติขาย BPlus/{Month_Period} ขายสด.xls\")\n",
    "clname_df1 = set(df1.columns)\n",
    "\n",
    "df2 = pd.read_excel(f\"D:/ประวัติขาย BPlus/{Month_Period} ขายเชื่อ.xls\")\n",
    "clname_df2 = set(df2.columns)\n",
    "\n",
    "clname = list(clname_df1.intersection(clname_df2))\n",
    "# append data by concatnate\n",
    "df = pd.concat([df1[clname],df2[clname]],axis = 0)\n",
    "\n",
    "# Change symbol text to integer (\"$\",\",\")\n",
    "filt_df = df[[\"TRD_SH_CODE\",\"TRD_SH_NAME\",\"VAT_DATE\",\"AR_NAME\",\"AR_CODE\",\"TRD_UTQNAME\",\"TRD_U_PRC\",\"TRD_QTY\",\"TRD_B_AMT\",\n",
    "              \"DI_REF\"]].set_index(\"DI_REF\")\n",
    "def sub_dollar(name):\n",
    "    output = pd.Series(np.where(filt_df[name].str.contains(\"$\") == True , filt_df[name].str.replace(\"$\",\"\"),filt_df[name]))\n",
    "    output1 = np.where(output.str.contains(\",\") == True , output.str.replace(\",\",\"\"),output)\n",
    "    return output1\n",
    "filt_df[\"TRD_QTY\"] = sub_dollar(\"TRD_QTY\")\n",
    "filt_df['TRD_B_AMT'] = sub_dollar(\"TRD_B_AMT\")\n",
    "\n",
    "\n",
    "# create round 2 decimal\n",
    "filt_df[\"TRD_QTY\"] = np.round(filt_df[\"TRD_QTY\"].astype(\"float32\"),2)\n",
    "filt_df[\"TRD_B_AMT\"] = np.round(filt_df[\"TRD_B_AMT\"].astype(\"float32\"),2)\n",
    "\n",
    "# re- columns\n",
    "filt_df = filt_df[['VAT_DATE','AR_NAME','AR_CODE','TRD_SH_CODE','TRD_SH_NAME','TRD_UTQNAME','TRD_QTY','TRD_U_PRC','TRD_B_AMT']]\n",
    "\n",
    "# Export to excel file (include all [VAT ,NOVAT])\n",
    "filt_df.to_excel(r'D:/ประวัติขาย BPlus/{monthyear} รวมขายเชื่อ กับ ขายสด.xlsx'.format(monthyear=Month_Period),\n",
    "                 sheet_name='history', index = True)\n",
    "\n",
    "# Export to excel file (Only Full VAT)\n",
    "filt_df_fvat = filt_df[~filt_df.index.str.contains(\"N|Vย\")]\n",
    "print(filt_df_fvat)\n",
    "filt_df_fvat.to_excel(r'D:/ประวัติขาย BPlus/{monthyear} รวมขายเชื่อ กับ ขายสด เฉพาะ VAT เต็มรูปแบบ.xlsx'.format(monthyear=Month_Period),\n",
    "                 sheet_name='history', index = True)\n",
    "\n",
    "# Export to excel file (Only abbreviate VAT)\n",
    "filt_df_abvat = filt_df[filt_df.index.str.contains(\"Vย\")]\n",
    "print(filt_df_fvat)\n",
    "filt_df_fvat.to_excel(r'D:/ประวัติขาย BPlus/{monthyear} รวมขายเชื่อ กับ ขายสด เฉพาะ VAT อย่างย่อ.xlsx'.format(monthyear=Month_Period),\n",
    "                 sheet_name='history', index = True)"
   ]
  }
 ],
 "metadata": {
  "kernelspec": {
   "display_name": "Python 3 (ipykernel)",
   "language": "python",
   "name": "python3"
  },
  "language_info": {
   "codemirror_mode": {
    "name": "ipython",
    "version": 3
   },
   "file_extension": ".py",
   "mimetype": "text/x-python",
   "name": "python",
   "nbconvert_exporter": "python",
   "pygments_lexer": "ipython3",
   "version": "3.8.8"
  }
 },
 "nbformat": 4,
 "nbformat_minor": 5
}
